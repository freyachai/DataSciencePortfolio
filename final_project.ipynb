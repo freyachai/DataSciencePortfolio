{
 "cells": [
  {
   "cell_type": "code",
   "execution_count": 1,
   "metadata": {},
   "outputs": [
    {
     "name": "stdout",
     "output_type": "stream",
     "text": [
      "Requirement already satisfied: matplotlib in /Users/freyachai/opt/anaconda3/lib/python3.8/site-packages (3.2.2)\n",
      "Requirement already satisfied: kiwisolver>=1.0.1 in /Users/freyachai/opt/anaconda3/lib/python3.8/site-packages (from matplotlib) (1.2.0)\n",
      "Requirement already satisfied: python-dateutil>=2.1 in /Users/freyachai/opt/anaconda3/lib/python3.8/site-packages (from matplotlib) (2.8.1)\n",
      "Requirement already satisfied: pyparsing!=2.0.4,!=2.1.2,!=2.1.6,>=2.0.1 in /Users/freyachai/opt/anaconda3/lib/python3.8/site-packages (from matplotlib) (2.4.7)\n",
      "Requirement already satisfied: numpy>=1.11 in /Users/freyachai/opt/anaconda3/lib/python3.8/site-packages (from matplotlib) (1.18.5)\n",
      "Requirement already satisfied: cycler>=0.10 in /Users/freyachai/opt/anaconda3/lib/python3.8/site-packages (from matplotlib) (0.10.0)\n",
      "Requirement already satisfied: six>=1.5 in /Users/freyachai/opt/anaconda3/lib/python3.8/site-packages (from python-dateutil>=2.1->matplotlib) (1.15.0)\n",
      "Note: you may need to restart the kernel to use updated packages.\n"
     ]
    }
   ],
   "source": [
    "pip install matplotlib"
   ]
  },
  {
   "cell_type": "code",
   "execution_count": 2,
   "metadata": {},
   "outputs": [],
   "source": [
    "from matplotlib import pyplot as plt\n",
    "import pandas as pd\n",
    "import numpy as np\n",
    "import statsmodels.api as sm\n",
    "import math \n",
    "\n",
    "from sklearn.model_selection import train_test_split\n",
    "from sklearn.linear_model import LinearRegression\n",
    "from sklearn.metrics import mean_squared_error, r2_score, mean_absolute_error\n",
    "\n",
    "from sklearn.cluster import KMeans\n",
    "\n",
    "from scipy import stats\n",
    "from scipy.stats import kurtosis, skew"
   ]
  },
  {
   "cell_type": "code",
   "execution_count": 3,
   "metadata": {},
   "outputs": [],
   "source": [
    "# use pandas to model the episode ratings csv data into a data frame\n",
    "episode_ratings = pd.read_csv('got_ep_ratings.csv')"
   ]
  },
  {
   "cell_type": "code",
   "execution_count": 4,
   "metadata": {},
   "outputs": [],
   "source": [
    "# use pandas to model the reddit csv data into a data frame\n",
    "reddit_data = pd.read_csv('reddit_data.csv')"
   ]
  },
  {
   "cell_type": "code",
   "execution_count": 5,
   "metadata": {},
   "outputs": [],
   "source": [
    "# because only the title and body of the Reddit threads are useful, I make them both into a list\n",
    "thread_title_list = reddit_data[:]['title'].tolist()\n",
    "thread_body_list = reddit_data[:]['body'].tolist()"
   ]
  },
  {
   "cell_type": "code",
   "execution_count": 6,
   "metadata": {},
   "outputs": [],
   "source": [
    "# use pandas to model the character wiki data into a data frame\n",
    "characters_wiki = pd.read_csv('characters_fandom.csv')"
   ]
  },
  {
   "cell_type": "code",
   "execution_count": 7,
   "metadata": {},
   "outputs": [],
   "source": [
    "# extract the first name of the characters by using the .loc method of pandas\n",
    "first_name_list = characters_wiki.loc[:]['first'].tolist()"
   ]
  },
  {
   "cell_type": "code",
   "execution_count": 8,
   "metadata": {},
   "outputs": [],
   "source": [
    "# traverse through the Reddit threads data and get the number of times that each main character's name is mentioned in the title and body of Reddit threads\n",
    "name_mention_dict ={}\n",
    "for first_name in first_name_list:\n",
    "    name_mention_dict[first_name] = 0\n",
    "    for i in thread_title_list:\n",
    "        if first_name in i:\n",
    "            name_mention_dict[first_name] += 1\n",
    "    for body in thread_body_list:\n",
    "        body = str(body)\n",
    "        if first_name in body:\n",
    "            name_mention_dict[first_name] += 1"
   ]
  },
  {
   "cell_type": "code",
   "execution_count": 9,
   "metadata": {},
   "outputs": [
    {
     "data": {
      "text/plain": [
       "<BarContainer object of 43 artists>"
      ]
     },
     "execution_count": 9,
     "metadata": {},
     "output_type": "execute_result"
    },
    {
     "data": {
      "image/png": "[encoded data removed]",
      "text/plain": [
       "<Figure size 432x288 with 1 Axes>"
      ]
     },
     "metadata": {
      "needs_background": "light"
     },
     "output_type": "display_data"
    }
   ],
   "source": [
    "# build a bar chart to visualize the name mentions data\n",
    "keys = name_mention_dict.keys()\n",
    "values = name_mention_dict.values()\n",
    "plt.bar(keys, values)"
   ]
  },
  {
   "cell_type": "code",
   "execution_count": 10,
   "metadata": {},
   "outputs": [],
   "source": [
    "# add the number of name mentions as a column to the pandas data frame\n",
    "characters_wiki['thread_name_mentions'] = name_mention_dict.values()"
   ]
  },
  {
   "cell_type": "code",
   "execution_count": 11,
   "metadata": {},
   "outputs": [],
   "source": [
    "# transforming the episode ratings data into a list\n",
    "ep_ratings_list = episode_ratings.loc[:]['ep_rating'].tolist()"
   ]
  },
  {
   "cell_type": "code",
   "execution_count": 12,
   "metadata": {},
   "outputs": [],
   "source": [
    "# transforming the episode titles data into a list\n",
    "ep_title_list = episode_ratings.loc[:]['ep_title'].tolist()"
   ]
  },
  {
   "cell_type": "code",
   "execution_count": 13,
   "metadata": {},
   "outputs": [],
   "source": [
    "# build a dictionary where the keys are episode titles, and the values are episode ratings\n",
    "ep_ratings_dict = {ep_title_list[i]:ep_ratings_list[i] for i in range(len(ep_title_list))}"
   ]
  },
  {
   "cell_type": "code",
   "execution_count": 14,
   "metadata": {},
   "outputs": [],
   "source": [
    "ep_first_seen_list = characters_wiki.loc[:]['ep_first_seen'].tolist()"
   ]
  },
  {
   "cell_type": "code",
   "execution_count": 15,
   "metadata": {},
   "outputs": [],
   "source": [
    "# build an empty list and use a for loop to find the ratings corresponding to the episode that each character first appeared\n",
    "ep_first_seen_ratings = []\n",
    "for ep in ep_first_seen_list:\n",
    "    ep_first_seen_ratings.append(ep_ratings_dict[ep[1:-1]])"
   ]
  },
  {
   "cell_type": "code",
   "execution_count": 16,
   "metadata": {},
   "outputs": [],
   "source": [
    "#build an empty list and use a for loop to find the ratings corresponding to the episode that each character first appeared\n",
    "first_ep_ratings = []\n",
    "for i in ep_first_seen_list:\n",
    "    first_ep_ratings.append(ep_ratings_dict[i[1:-1]])"
   ]
  },
  {
   "cell_type": "code",
   "execution_count": 17,
   "metadata": {},
   "outputs": [],
   "source": [
    "# adding the first-seen episode ratings data as a new column to the data frame\n",
    "characters_wiki['first_ep_rating'] = first_ep_ratings"
   ]
  },
  {
   "cell_type": "code",
   "execution_count": 18,
   "metadata": {},
   "outputs": [],
   "source": [
    "# transform the last seen episode column on the data frame to a list\n",
    "ep_last_seen_list = characters_wiki.loc[:]['ep_last_seen'].tolist()"
   ]
  },
  {
   "cell_type": "code",
   "execution_count": 19,
   "metadata": {},
   "outputs": [],
   "source": [
    "# build an empty list and use a for loop to find the ratings corresponding to the episode that each character last appeared\n",
    "ep_last_seen_ratings = []\n",
    "for ep in ep_last_seen_list:\n",
    "    ep_last_seen_ratings.append(ep_ratings_dict[ep[1:-1]])"
   ]
  },
  {
   "cell_type": "code",
   "execution_count": 20,
   "metadata": {},
   "outputs": [],
   "source": [
    "# adding the last-seen episode ratings data as a new column to the data frame\n",
    "characters_wiki['last_ep_rating'] = ep_last_seen_ratings "
   ]
  },
  {
   "cell_type": "code",
   "execution_count": 21,
   "metadata": {},
   "outputs": [
    {
     "data": {
      "text/plain": [
       "name                     object\n",
       "first                    object\n",
       "last                     object\n",
       "ep_first_seen            object\n",
       "ep_last_seen             object\n",
       "num_ep_appeared           int64\n",
       "thread_name_mentions      int64\n",
       "first_ep_rating         float64\n",
       "last_ep_rating          float64\n",
       "dtype: object"
      ]
     },
     "execution_count": 21,
     "metadata": {},
     "output_type": "execute_result"
    }
   ],
   "source": [
    "#checking for data types to make sure that the key metrics are in float or integer types - for later analysis purposes\n",
    "characters_wiki.dtypes"
   ]
  },
  {
   "cell_type": "code",
   "execution_count": 22,
   "metadata": {},
   "outputs": [],
   "source": [
    "# establish the x and y axis of the scatter plot chart to find out the relationship between character's number of episode appeared and character popularity\n",
    "x = characters_wiki['num_ep_appeared']\n",
    "y = characters_wiki['thread_name_mentions']"
   ]
  },
  {
   "cell_type": "code",
   "execution_count": 23,
   "metadata": {},
   "outputs": [
    {
     "data": {
      "image/png": "[encoded data removed]",
      "text/plain": [
       "<Figure size 432x288 with 1 Axes>"
      ]
     },
     "metadata": {
      "needs_background": "light"
     },
     "output_type": "display_data"
    }
   ],
   "source": [
    "# create a scatter plot chart\n",
    "plt.plot(x, y, 'o', color ='cadetblue', label = 'character popularity')\n",
    "# declaring the two axis and the labels of the scatter plot\n",
    "plt.title(\"Relationship between character's number of episode appeared and character popularity\")\n",
    "plt.xlabel(\"num_ep_appeared\")\n",
    "plt.ylabel(\"thread_name_mentions\")\n",
    "#add a legend\n",
    "plt.legend()\n",
    "#show the scatter plot below\n",
    "plt.show()"
   ]
  },
  {
   "cell_type": "code",
   "execution_count": 24,
   "metadata": {},
   "outputs": [],
   "source": [
    "# establish the x and y axis of the scatter plot chart to find out the relationship between character's first seen episode rating and character popularity\n",
    "x1 = characters_wiki['first_ep_rating']\n",
    "y1 = characters_wiki['thread_name_mentions']"
   ]
  },
  {
   "cell_type": "code",
   "execution_count": 25,
   "metadata": {},
   "outputs": [
    {
     "data": {
      "image/png": "[encoded data removed]",
      "text/plain": [
       "<Figure size 432x288 with 1 Axes>"
      ]
     },
     "metadata": {
      "needs_background": "light"
     },
     "output_type": "display_data"
    }
   ],
   "source": [
    "# create a scatter plot chart\n",
    "plt.plot(x1, y1, 'o', color ='cadetblue', label = 'character popularity')\n",
    "# declaring the two axis and the labels of the scatter plot\n",
    "plt.title(\"Relationship between character's first seen episode rating and character popularity\")\n",
    "plt.xlabel(\"first_ep_rating\")\n",
    "plt.ylabel(\"thread_name_mentions\")\n",
    "#show the legend\n",
    "plt.legend()\n",
    "#show the scatter plot below\n",
    "plt.show()"
   ]
  },
  {
   "cell_type": "code",
   "execution_count": 26,
   "metadata": {},
   "outputs": [],
   "source": [
    "#establish the x and y axis of the scatter plot chart to find out the relationship between character's last seen episode rating and character popularity\n",
    "x2 = characters_wiki['last_ep_rating']\n",
    "y2 = characters_wiki['thread_name_mentions']"
   ]
  },
  {
   "cell_type": "code",
   "execution_count": 27,
   "metadata": {},
   "outputs": [
    {
     "data": {
      "image/png": "[encoded data removed]",
      "text/plain": [
       "<Figure size 432x288 with 1 Axes>"
      ]
     },
     "metadata": {
      "needs_background": "light"
     },
     "output_type": "display_data"
    }
   ],
   "source": [
    "# create a scatter plot chart\n",
    "plt.plot(x2, y2, 'o', color ='cadetblue', label = 'character popularity')\n",
    "# declaring the two axis and the labels of the scatter plot\n",
    "plt.title(\"Relationship between character's last seen episode rating and character popularity\")\n",
    "plt.xlabel(\"last_ep_rating\")\n",
    "plt.ylabel(\"thread_name_mentions\")\n",
    "#show a legend\n",
    "plt.legend()\n",
    "#show the scatter plot below\n",
    "plt.show()"
   ]
  },
  {
   "cell_type": "code",
   "execution_count": 28,
   "metadata": {},
   "outputs": [
    {
     "data": {
      "text/plain": [
       "array([0, 0, 0, 0, 1, 2, 1, 0, 0, 0, 0, 2, 1, 2, 1, 2, 2, 1, 1, 1, 1, 0,\n",
       "       2, 0, 1, 1, 1, 2, 1, 0, 0, 1, 2, 1, 1, 1, 0, 1, 1, 1, 0, 1, 1],\n",
       "      dtype=int32)"
      ]
     },
     "execution_count": 28,
     "metadata": {},
     "output_type": "execute_result"
    }
   ],
   "source": [
    "#using sklearn to create a K-means clustering visualization that creates 3 clusters\n",
    "#the x-axis is the number of total episodes that a character appeared \n",
    "#the y-axis is the number of times that the character's name is mentioned in top GoT reddit threads\n",
    "km = KMeans(n_clusters=3)\n",
    "y_predicted = km.fit_predict(characters_wiki[['first_ep_rating','last_ep_rating']])\n",
    "y_predicted"
   ]
  },
  {
   "cell_type": "code",
   "execution_count": 29,
   "metadata": {},
   "outputs": [],
   "source": [
    "#run the clustering to add a column to the data frame with the number of cluster for each row: 0 or 1 or 2\n",
    "characters_wiki['cluster']=y_predicted"
   ]
  },
  {
   "cell_type": "code",
   "execution_count": 30,
   "metadata": {},
   "outputs": [
    {
     "data": {
      "text/plain": [
       "<matplotlib.legend.Legend at 0x11a6377c0>"
      ]
     },
     "execution_count": 30,
     "metadata": {},
     "output_type": "execute_result"
    },
    {
     "data": {
      "image/png": "[encoded data removed]",
      "text/plain": [
       "<Figure size 432x288 with 1 Axes>"
      ]
     },
     "metadata": {
      "needs_background": "light"
     },
     "output_type": "display_data"
    }
   ],
   "source": [
    "# visualize the clustering with the centroids indicated in purple\n",
    "# I found the demo by dhavalsays very helpful in creating a clustering visualization - https://github.com/codebasics/py/blob/master/ML/13_kmeans/13_kmeans_tutorial.ipynb\n",
    "#first, create 3 dataframes for the 3 clusters\n",
    "df1 = characters_wiki[characters_wiki.cluster==0]\n",
    "df2 = characters_wiki[characters_wiki.cluster==1]\n",
    "df3 = characters_wiki[characters_wiki.cluster==2]\n",
    "# then, use the matplotlib scatter plot methods to plot the clusters onto the graph\n",
    "plt.scatter(df1.num_ep_appeared,df1['thread_name_mentions'],color='blue')\n",
    "plt.scatter(df2.num_ep_appeared,df2['thread_name_mentions'],color='green')\n",
    "plt.scatter(df3.num_ep_appeared,df3['thread_name_mentions'],color='yellow')\n",
    "# display the centroids of each cluster by a purple star marker\n",
    "plt.scatter(km.cluster_centers_[:,0],km.cluster_centers_[:,1],color='purple',marker='*',label='centroid')\n",
    "# define labels for the x and y axis\n",
    "plt.xlabel('num_ep_appeared')\n",
    "plt.ylabel('character_popularity')\n",
    "# add a legend to the graph\n",
    "plt.legend()"
   ]
  },
  {
   "cell_type": "code",
   "execution_count": 31,
   "metadata": {},
   "outputs": [
    {
     "data": {
      "text/html": [
       "<div>\n",
       "<style scoped>\n",
       "    .dataframe tbody tr th:only-of-type {\n",
       "        vertical-align: middle;\n",
       "    }\n",
       "\n",
       "    .dataframe tbody tr th {\n",
       "        vertical-align: top;\n",
       "    }\n",
       "\n",
       "    .dataframe thead th {\n",
       "        text-align: right;\n",
       "    }\n",
       "</style>\n",
       "<table border=\"1\" class=\"dataframe\">\n",
       "  <thead>\n",
       "    <tr style=\"text-align: right;\">\n",
       "      <th></th>\n",
       "      <th>num_ep_appeared</th>\n",
       "      <th>thread_name_mentions</th>\n",
       "      <th>first_ep_rating</th>\n",
       "      <th>last_ep_rating</th>\n",
       "      <th>cluster</th>\n",
       "    </tr>\n",
       "  </thead>\n",
       "  <tbody>\n",
       "    <tr>\n",
       "      <th>num_ep_appeared</th>\n",
       "      <td>1.000000</td>\n",
       "      <td>0.737241</td>\n",
       "      <td>0.097800</td>\n",
       "      <td>-0.717681</td>\n",
       "      <td>-0.140963</td>\n",
       "    </tr>\n",
       "    <tr>\n",
       "      <th>thread_name_mentions</th>\n",
       "      <td>0.737241</td>\n",
       "      <td>1.000000</td>\n",
       "      <td>0.209295</td>\n",
       "      <td>-0.554208</td>\n",
       "      <td>-0.275553</td>\n",
       "    </tr>\n",
       "    <tr>\n",
       "      <th>first_ep_rating</th>\n",
       "      <td>0.097800</td>\n",
       "      <td>0.209295</td>\n",
       "      <td>1.000000</td>\n",
       "      <td>0.081140</td>\n",
       "      <td>0.068261</td>\n",
       "    </tr>\n",
       "    <tr>\n",
       "      <th>last_ep_rating</th>\n",
       "      <td>-0.717681</td>\n",
       "      <td>-0.554208</td>\n",
       "      <td>0.081140</td>\n",
       "      <td>1.000000</td>\n",
       "      <td>0.509948</td>\n",
       "    </tr>\n",
       "    <tr>\n",
       "      <th>cluster</th>\n",
       "      <td>-0.140963</td>\n",
       "      <td>-0.275553</td>\n",
       "      <td>0.068261</td>\n",
       "      <td>0.509948</td>\n",
       "      <td>1.000000</td>\n",
       "    </tr>\n",
       "  </tbody>\n",
       "</table>\n",
       "</div>"
      ],
      "text/plain": [
       "                      num_ep_appeared  thread_name_mentions  first_ep_rating  \\\n",
       "num_ep_appeared              1.000000              0.737241         0.097800   \n",
       "thread_name_mentions         0.737241              1.000000         0.209295   \n",
       "first_ep_rating              0.097800              0.209295         1.000000   \n",
       "last_ep_rating              -0.717681             -0.554208         0.081140   \n",
       "cluster                     -0.140963             -0.275553         0.068261   \n",
       "\n",
       "                      last_ep_rating   cluster  \n",
       "num_ep_appeared            -0.717681 -0.140963  \n",
       "thread_name_mentions       -0.554208 -0.275553  \n",
       "first_ep_rating             0.081140  0.068261  \n",
       "last_ep_rating              1.000000  0.509948  \n",
       "cluster                     0.509948  1.000000  "
      ]
     },
     "execution_count": 31,
     "metadata": {},
     "output_type": "execute_result"
    }
   ],
   "source": [
    "# lastly, calculate the correlations among the key metrics in the data frame\n",
    "characters_wiki.corr()"
   ]
  },
  {
   "cell_type": "code",
   "execution_count": 32,
   "metadata": {},
   "outputs": [],
   "source": [
    "#Answering the questions for the final project\n",
    "#1.\tYour name: Yixing Chai"
   ]
  },
  {
   "cell_type": "code",
   "execution_count": null,
   "metadata": {},
   "outputs": [],
   "source": [
    "#2.Any major “gotchas” to the code (i.e. things that don’t work, go slowly, could be improved, etc.):\n",
    "# The web scrapers work pretty slowly even with not that many rows."
   ]
  },
  {
   "cell_type": "code",
   "execution_count": null,
   "metadata": {},
   "outputs": [],
   "source": [
    "# 3.Any libraries that need to be installed to run your code (see above): \n",
    "# matplotlib and sklearn packages has to be imported for data visualizations\n",
    "# pandas needs to be imported for data modeling and manipulation\n",
    "# numpy and math are imported for data analysis"
   ]
  },
  {
   "cell_type": "code",
   "execution_count": null,
   "metadata": {},
   "outputs": [],
   "source": [
    "# 4.Anything else you feel is relevant to the grading of your project your project: No."
   ]
  },
  {
   "cell_type": "code",
   "execution_count": null,
   "metadata": {},
   "outputs": [],
   "source": [
    "#5.\tWhat did you set out to study?  (i.e. what was the point of your project?  This should be close to your Milestone 1 assignment, but if you switched gears or changed things, note it here.)\n",
    "# I set out to study the reasons why a Game of Thrones character is popular.\n",
    "# I investigated the correlations between GoT character popularity (number of times their names are mentioned in top Reddit threads) and factors including the number of episodes they appeared, the rating of the first and last episode that they are seen."
   ]
  },
  {
   "cell_type": "code",
   "execution_count": null,
   "metadata": {},
   "outputs": [],
   "source": [
    "#6.\tWhat did you Discover/what were your conclusions (i.e. what were your findings?  Were your original assumptions confirmed, etc.?)\n",
    "# My assumption is that the number of episodes a characters appear in, the ratings of the first episode they appear in, and the rating of the last episode they appear in all had positive correlations with their level of popularity.\n",
    "# The scatter-plot visualization and clustering showed that the only positive correlation is the number of episode a character appear in and their levels of popularity. There is a strong positive correlation coefficient of 0.74. \n",
    "# There are no significant correlations found for the ratings of the episode that a character first or last appear in and their levels of popularity."
   ]
  },
  {
   "cell_type": "code",
   "execution_count": null,
   "metadata": {},
   "outputs": [],
   "source": [
    "#7.\tWhat difficulties did you have in completing the project?  \n",
    "# The web scrapers are challenging to build because the information I'm trying to get is all contained many levels under a main tag, so the debug process was very long\n",
    "# To scrape the character wiki dataset, I first had to scrape Wikipedia for a list of main character names (a list of the last part of the URL for the character Wiki) so that I could use a for loop to scrape the character wikis\n",
    "# The Character Wiki dataset was scraped and had to be cleaned manually because there were a few missing rows and one row had wrong information (likely due to the fact that one particular page is coded differently from the others).\n"
   ]
  },
  {
   "cell_type": "code",
   "execution_count": null,
   "metadata": {},
   "outputs": [],
   "source": [
    "#8.\tWhat skills did you wish you had while you were doing the project?\n",
    "# I wish I had a deeper understanding of pandas methods for data manipulation\n",
    "# I wish I knew more about the sklearn package to build data visualizations\n",
    "# I wish I was more proficient with Beautiful Soup that I could extract information hidden many levels under the main tag more easily"
   ]
  },
  {
   "cell_type": "code",
   "execution_count": null,
   "metadata": {},
   "outputs": [],
   "source": [
    "#9.\tWhat would you do “next” to expand or augment the project?    \n",
    "# For now, the character popularity is only based on the number of times that a character's name is mentioned on Reddit threads, however, that is not a comprehensive measurement.\n",
    "# As the next step, I want to take into account more factors, such as the number of followers on the character's Facebook page, the survey data where people voted on their favorite characters, and etc.\n",
    "# Another thing is that for now "
   ]
  }
 ],
 "metadata": {
  "kernelspec": {
   "display_name": "Python 3",
   "language": "python",
   "name": "python3"
  },
  "language_info": {
   "codemirror_mode": {
    "name": "ipython",
    "version": 3
   },
   "file_extension": ".py",
   "mimetype": "text/x-python",
   "name": "python",
   "nbconvert_exporter": "python",
   "pygments_lexer": "ipython3",
   "version": "3.8.3"
  }
 },
 "nbformat": 4,
 "nbformat_minor": 4
}
